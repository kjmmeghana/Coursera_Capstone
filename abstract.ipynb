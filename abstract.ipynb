﻿{
 "cells": [
  {
   "cell_type": "markdown",
   "metadata": {},
   "source": [
    "## The Battle of Neighborhood- Week-1"
   ]
  },
  {
   "cell_type": "markdown",
   "metadata": {},
   "source": [
    "### Introduction and Business problem:\n"
   ]
  },
  {
   "cell_type": "markdown",
   "metadata": {},
   "source": [
    "#### Background:"
   ]
  },
  {
   "cell_type": "markdown",
   "metadata": {},
   "source": [
    "The City of New York, usually known as New York City (NYC), or New York (NY), is the most populous city in the United States. With an estimated population of 8,398,748 distributed over a land area of approximately 302.6 square miles. It is the largest and most influential American metropolis, encompassing Manhattan and Staten islands, the western sections of Long Island, and a small portion of the New York state mainland to the north of Manhattan. New York City is in reality a collection of many neighbourhoods scattered among the city’s five boroughs—Manhattan, Brooklyn, the Bronx, Queens, and Staten Island—each exhibiting its own lifestyle. Due to residence of many life styles, there is a high scope for setting up a restaurent in this loaction."
   ]
  },
  {
   "cell_type": "markdown",
   "metadata": {},
   "source": [
    "#### Problem Description:"
   ]
  },
  {
   "cell_type": "markdown",
   "metadata": {},
   "source": [
    "Although the main aim is to open a restaurant, there will be a high competition in this field. So, the entreprenuer should thing throughly before investing huge amounts. There would be a need to distinguish this restaurant from others and from the numerous competition in order to maximize the income. For this, there would be a need of proper management, decisions and making tools.  "
   ]
  },
  {
   "cell_type": "markdown",
   "metadata": {},
   "source": [
    "#### Data Description:"
   ]
  },
  {
   "cell_type": "markdown",
   "metadata": {},
   "source": [
    "The data about number and location of Thai food restaurants in each Boroughs of\n",
    "New York will be collected via Foursquare platform. The data science tools will be\n",
    "utilized to gain insights as follow:\n",
    "\n",
    "1. How many restaurants are present in each Borough\n",
    "2. How dense are the restaurants in each Borough\n",
    "\n",
    "The insights will be use for estimating the opportunity and risk of opening a new\n",
    "food restaurant for entrepreneur that is considering to enter the industry."
   ]
  },
  {
   "cell_type": "code",
   "execution_count": null,
   "metadata": {},
   "outputs": [],
   "source": []
  }
 ],
 "metadata": {
  "kernelspec": {
   "display_name": "Python 3",
   "language": "python",
   "name": "python3"
  },
  "language_info": {
   "codemirror_mode": {
    "name": "ipython",
    "version": 3
   },
   "file_extension": ".py",
   "mimetype": "text/x-python",
   "name": "python",
   "nbconvert_exporter": "python",
   "pygments_lexer": "ipython3",
   "version": "3.6.8"
  }
 },
 "nbformat": 4,
 "nbformat_minor": 2
}
